{
  "nbformat": 4,
  "nbformat_minor": 0,
  "metadata": {
    "colab": {
      "provenance": [],
      "authorship_tag": "ABX9TyNn/LKZRM5nrbuK2U19qR7j",
      "include_colab_link": true
    },
    "kernelspec": {
      "name": "python3",
      "display_name": "Python 3"
    },
    "language_info": {
      "name": "python"
    }
  },
  "cells": [
    {
      "cell_type": "markdown",
      "metadata": {
        "id": "view-in-github",
        "colab_type": "text"
      },
      "source": [
        "<a href=\"https://colab.research.google.com/github/jfadsfhwef/code-search-enginee/blob/main/capture_webpage_screenshot_async.ipynb\" target=\"_parent\"><img src=\"https://colab.research.google.com/assets/colab-badge.svg\" alt=\"Open In Colab\"/></a>"
      ]
    },
    {
      "cell_type": "code",
      "execution_count": 1,
      "metadata": {
        "colab": {
          "base_uri": "https://localhost:8080/"
        },
        "id": "DUY8gvi4czjb",
        "outputId": "f8bee11f-4a79-41f7-b228-114c61dc75ae"
      },
      "outputs": [
        {
          "output_type": "stream",
          "name": "stdout",
          "text": [
            "Collecting playwright\n",
            "  Downloading playwright-1.52.0-py3-none-manylinux1_x86_64.whl.metadata (3.5 kB)\n",
            "Collecting pyee<14,>=13 (from playwright)\n",
            "  Downloading pyee-13.0.0-py3-none-any.whl.metadata (2.9 kB)\n",
            "Requirement already satisfied: greenlet<4.0.0,>=3.1.1 in /usr/local/lib/python3.11/dist-packages (from playwright) (3.2.3)\n",
            "Requirement already satisfied: typing-extensions in /usr/local/lib/python3.11/dist-packages (from pyee<14,>=13->playwright) (4.14.0)\n",
            "Downloading playwright-1.52.0-py3-none-manylinux1_x86_64.whl (45.1 MB)\n",
            "\u001b[2K   \u001b[90m━━━━━━━━━━━━━━━━━━━━━━━━━━━━━━━━━━━━━━━━\u001b[0m \u001b[32m45.1/45.1 MB\u001b[0m \u001b[31m13.2 MB/s\u001b[0m eta \u001b[36m0:00:00\u001b[0m\n",
            "\u001b[?25hDownloading pyee-13.0.0-py3-none-any.whl (15 kB)\n",
            "Installing collected packages: pyee, playwright\n",
            "Successfully installed playwright-1.52.0 pyee-13.0.0\n"
          ]
        }
      ],
      "source": [
        "pip install playwright\n"
      ]
    },
    {
      "cell_type": "code",
      "source": [
        "!playwright install"
      ],
      "metadata": {
        "colab": {
          "base_uri": "https://localhost:8080/"
        },
        "id": "g8DksaK5dBfR",
        "outputId": "7d7c700e-d3c2-4f85-946e-830ba94a9330"
      },
      "execution_count": 4,
      "outputs": [
        {
          "output_type": "stream",
          "name": "stdout",
          "text": [
            "Downloading Chromium 136.0.7103.25 (playwright build v1169)\u001b[2m from https://cdn.playwright.dev/dbazure/download/playwright/builds/chromium/1169/chromium-linux.zip\u001b[22m\n",
            "\u001b[1G167.7 MiB [] 0% 0.0s\u001b[0K\u001b[1G167.7 MiB [] 0% 48.3s\u001b[0K\u001b[1G167.7 MiB [] 0% 23.1s\u001b[0K\u001b[1G167.7 MiB [] 0% 16.8s\u001b[0K\u001b[1G167.7 MiB [] 0% 8.1s\u001b[0K\u001b[1G167.7 MiB [] 1% 5.2s\u001b[0K\u001b[1G167.7 MiB [] 2% 4.2s\u001b[0K\u001b[1G167.7 MiB [] 3% 3.5s\u001b[0K\u001b[1G167.7 MiB [] 4% 3.0s\u001b[0K\u001b[1G167.7 MiB [] 5% 2.7s\u001b[0K\u001b[1G167.7 MiB [] 5% 2.6s\u001b[0K\u001b[1G167.7 MiB [] 6% 2.7s\u001b[0K\u001b[1G167.7 MiB [] 7% 2.5s\u001b[0K\u001b[1G167.7 MiB [] 8% 2.5s\u001b[0K\u001b[1G167.7 MiB [] 9% 2.4s\u001b[0K\u001b[1G167.7 MiB [] 10% 2.4s\u001b[0K\u001b[1G167.7 MiB [] 11% 2.2s\u001b[0K\u001b[1G167.7 MiB [] 12% 2.1s\u001b[0K\u001b[1G167.7 MiB [] 13% 2.1s\u001b[0K\u001b[1G167.7 MiB [] 14% 2.0s\u001b[0K\u001b[1G167.7 MiB [] 15% 2.0s\u001b[0K\u001b[1G167.7 MiB [] 16% 1.9s\u001b[0K\u001b[1G167.7 MiB [] 18% 1.8s\u001b[0K\u001b[1G167.7 MiB [] 19% 1.7s\u001b[0K\u001b[1G167.7 MiB [] 20% 1.7s\u001b[0K\u001b[1G167.7 MiB [] 21% 1.6s\u001b[0K\u001b[1G167.7 MiB [] 22% 1.6s\u001b[0K\u001b[1G167.7 MiB [] 23% 1.6s\u001b[0K\u001b[1G167.7 MiB [] 24% 1.5s\u001b[0K\u001b[1G167.7 MiB [] 25% 1.5s\u001b[0K\u001b[1G167.7 MiB [] 26% 1.4s\u001b[0K\u001b[1G167.7 MiB [] 27% 1.5s\u001b[0K\u001b[1G167.7 MiB [] 28% 1.5s\u001b[0K\u001b[1G167.7 MiB [] 29% 1.4s\u001b[0K\u001b[1G167.7 MiB [] 31% 1.3s\u001b[0K\u001b[1G167.7 MiB [] 32% 1.3s\u001b[0K\u001b[1G167.7 MiB [] 33% 1.3s\u001b[0K\u001b[1G167.7 MiB [] 34% 1.2s\u001b[0K\u001b[1G167.7 MiB [] 35% 1.2s\u001b[0K\u001b[1G167.7 MiB [] 37% 1.2s\u001b[0K\u001b[1G167.7 MiB [] 38% 1.1s\u001b[0K\u001b[1G167.7 MiB [] 39% 1.1s\u001b[0K\u001b[1G167.7 MiB [] 40% 1.1s\u001b[0K\u001b[1G167.7 MiB [] 41% 1.1s\u001b[0K\u001b[1G167.7 MiB [] 42% 1.0s\u001b[0K\u001b[1G167.7 MiB [] 43% 1.0s\u001b[0K\u001b[1G167.7 MiB [] 44% 1.0s\u001b[0K\u001b[1G167.7 MiB [] 45% 1.0s\u001b[0K\u001b[1G167.7 MiB [] 46% 1.0s\u001b[0K\u001b[1G167.7 MiB [] 47% 0.9s\u001b[0K\u001b[1G167.7 MiB [] 48% 0.9s\u001b[0K\u001b[1G167.7 MiB [] 49% 0.9s\u001b[0K\u001b[1G167.7 MiB [] 51% 0.9s\u001b[0K\u001b[1G167.7 MiB [] 52% 0.9s\u001b[0K\u001b[1G167.7 MiB [] 53% 0.8s\u001b[0K\u001b[1G167.7 MiB [] 54% 0.8s\u001b[0K\u001b[1G167.7 MiB [] 56% 0.8s\u001b[0K\u001b[1G167.7 MiB [] 57% 0.7s\u001b[0K\u001b[1G167.7 MiB [] 58% 0.7s\u001b[0K\u001b[1G167.7 MiB [] 59% 0.7s\u001b[0K\u001b[1G167.7 MiB [] 60% 0.7s\u001b[0K\u001b[1G167.7 MiB [] 62% 0.6s\u001b[0K\u001b[1G167.7 MiB [] 63% 0.6s\u001b[0K\u001b[1G167.7 MiB [] 64% 0.6s\u001b[0K\u001b[1G167.7 MiB [] 65% 0.6s\u001b[0K\u001b[1G167.7 MiB [] 66% 0.6s\u001b[0K\u001b[1G167.7 MiB [] 67% 0.6s\u001b[0K\u001b[1G167.7 MiB [] 68% 0.5s\u001b[0K\u001b[1G167.7 MiB [] 69% 0.5s\u001b[0K\u001b[1G167.7 MiB [] 70% 0.5s\u001b[0K\u001b[1G167.7 MiB [] 71% 0.5s\u001b[0K\u001b[1G167.7 MiB [] 72% 0.5s\u001b[0K\u001b[1G167.7 MiB [] 73% 0.5s\u001b[0K\u001b[1G167.7 MiB [] 74% 0.4s\u001b[0K\u001b[1G167.7 MiB [] 75% 0.4s\u001b[0K\u001b[1G167.7 MiB [] 76% 0.4s\u001b[0K\u001b[1G167.7 MiB [] 77% 0.4s\u001b[0K\u001b[1G167.7 MiB [] 78% 0.4s\u001b[0K\u001b[1G167.7 MiB [] 79% 0.3s\u001b[0K\u001b[1G167.7 MiB [] 80% 0.3s\u001b[0K\u001b[1G167.7 MiB [] 81% 0.3s\u001b[0K\u001b[1G167.7 MiB [] 83% 0.3s\u001b[0K\u001b[1G167.7 MiB [] 84% 0.3s\u001b[0K\u001b[1G167.7 MiB [] 85% 0.2s\u001b[0K\u001b[1G167.7 MiB [] 86% 0.2s\u001b[0K\u001b[1G167.7 MiB [] 88% 0.2s\u001b[0K\u001b[1G167.7 MiB [] 89% 0.2s\u001b[0K\u001b[1G167.7 MiB [] 90% 0.2s\u001b[0K\u001b[1G167.7 MiB [] 91% 0.1s\u001b[0K\u001b[1G167.7 MiB [] 92% 0.1s\u001b[0K\u001b[1G167.7 MiB [] 93% 0.1s\u001b[0K\u001b[1G167.7 MiB [] 94% 0.1s\u001b[0K\u001b[1G167.7 MiB [] 95% 0.1s\u001b[0K\u001b[1G167.7 MiB [] 97% 0.0s\u001b[0K\u001b[1G167.7 MiB [] 98% 0.0s\u001b[0K\u001b[1G167.7 MiB [] 99% 0.0s\u001b[0K\u001b[1G167.7 MiB [] 100% 0.0s\u001b[0K\n",
            "Chromium 136.0.7103.25 (playwright build v1169) downloaded to /root/.cache/ms-playwright/chromium-1169\n",
            "Downloading Chromium Headless Shell 136.0.7103.25 (playwright build v1169)\u001b[2m from https://cdn.playwright.dev/dbazure/download/playwright/builds/chromium/1169/chromium-headless-shell-linux.zip\u001b[22m\n",
            "\u001b[1G101.4 MiB [] 0% 0.0s\u001b[0K\u001b[1G101.4 MiB [] 0% 32.1s\u001b[0K\u001b[1G101.4 MiB [] 0% 15.3s\u001b[0K\u001b[1G101.4 MiB [] 0% 9.1s\u001b[0K\u001b[1G101.4 MiB [] 1% 5.8s\u001b[0K\u001b[1G101.4 MiB [] 2% 3.5s\u001b[0K\u001b[1G101.4 MiB [] 2% 3.3s\u001b[0K\u001b[1G101.4 MiB [] 3% 2.9s\u001b[0K\u001b[1G101.4 MiB [] 5% 2.4s\u001b[0K\u001b[1G101.4 MiB [] 6% 2.1s\u001b[0K\u001b[1G101.4 MiB [] 7% 2.0s\u001b[0K\u001b[1G101.4 MiB [] 8% 1.9s\u001b[0K\u001b[1G101.4 MiB [] 9% 1.9s\u001b[0K\u001b[1G101.4 MiB [] 10% 1.8s\u001b[0K\u001b[1G101.4 MiB [] 12% 1.7s\u001b[0K\u001b[1G101.4 MiB [] 13% 1.7s\u001b[0K\u001b[1G101.4 MiB [] 14% 1.6s\u001b[0K\u001b[1G101.4 MiB [] 15% 1.7s\u001b[0K\u001b[1G101.4 MiB [] 16% 1.7s\u001b[0K\u001b[1G101.4 MiB [] 17% 1.6s\u001b[0K\u001b[1G101.4 MiB [] 18% 1.6s\u001b[0K\u001b[1G101.4 MiB [] 19% 1.6s\u001b[0K\u001b[1G101.4 MiB [] 20% 1.6s\u001b[0K\u001b[1G101.4 MiB [] 21% 1.5s\u001b[0K\u001b[1G101.4 MiB [] 22% 1.5s\u001b[0K\u001b[1G101.4 MiB [] 23% 1.5s\u001b[0K\u001b[1G101.4 MiB [] 24% 1.4s\u001b[0K\u001b[1G101.4 MiB [] 25% 1.4s\u001b[0K\u001b[1G101.4 MiB [] 26% 1.4s\u001b[0K\u001b[1G101.4 MiB [] 28% 1.3s\u001b[0K\u001b[1G101.4 MiB [] 29% 1.3s\u001b[0K\u001b[1G101.4 MiB [] 30% 1.2s\u001b[0K\u001b[1G101.4 MiB [] 32% 1.2s\u001b[0K\u001b[1G101.4 MiB [] 33% 1.2s\u001b[0K\u001b[1G101.4 MiB [] 34% 1.1s\u001b[0K\u001b[1G101.4 MiB [] 35% 1.1s\u001b[0K\u001b[1G101.4 MiB [] 36% 1.1s\u001b[0K\u001b[1G101.4 MiB [] 37% 1.1s\u001b[0K\u001b[1G101.4 MiB [] 39% 1.0s\u001b[0K\u001b[1G101.4 MiB [] 40% 1.0s\u001b[0K\u001b[1G101.4 MiB [] 41% 1.0s\u001b[0K\u001b[1G101.4 MiB [] 42% 1.0s\u001b[0K\u001b[1G101.4 MiB [] 44% 0.9s\u001b[0K\u001b[1G101.4 MiB [] 45% 0.9s\u001b[0K\u001b[1G101.4 MiB [] 46% 0.9s\u001b[0K\u001b[1G101.4 MiB [] 47% 0.9s\u001b[0K\u001b[1G101.4 MiB [] 49% 0.9s\u001b[0K\u001b[1G101.4 MiB [] 51% 0.8s\u001b[0K\u001b[1G101.4 MiB [] 52% 0.8s\u001b[0K\u001b[1G101.4 MiB [] 53% 0.8s\u001b[0K\u001b[1G101.4 MiB [] 55% 0.7s\u001b[0K\u001b[1G101.4 MiB [] 56% 0.7s\u001b[0K\u001b[1G101.4 MiB [] 58% 0.7s\u001b[0K\u001b[1G101.4 MiB [] 59% 0.6s\u001b[0K\u001b[1G101.4 MiB [] 61% 0.6s\u001b[0K\u001b[1G101.4 MiB [] 62% 0.6s\u001b[0K\u001b[1G101.4 MiB [] 64% 0.5s\u001b[0K\u001b[1G101.4 MiB [] 65% 0.5s\u001b[0K\u001b[1G101.4 MiB [] 67% 0.5s\u001b[0K\u001b[1G101.4 MiB [] 68% 0.5s\u001b[0K\u001b[1G101.4 MiB [] 70% 0.4s\u001b[0K\u001b[1G101.4 MiB [] 72% 0.4s\u001b[0K\u001b[1G101.4 MiB [] 74% 0.4s\u001b[0K\u001b[1G101.4 MiB [] 75% 0.4s\u001b[0K\u001b[1G101.4 MiB [] 76% 0.3s\u001b[0K\u001b[1G101.4 MiB [] 78% 0.3s\u001b[0K\u001b[1G101.4 MiB [] 79% 0.3s\u001b[0K\u001b[1G101.4 MiB [] 80% 0.3s\u001b[0K\u001b[1G101.4 MiB [] 81% 0.3s\u001b[0K\u001b[1G101.4 MiB [] 83% 0.3s\u001b[0K\u001b[1G101.4 MiB [] 84% 0.2s\u001b[0K\u001b[1G101.4 MiB [] 86% 0.2s\u001b[0K\u001b[1G101.4 MiB [] 87% 0.2s\u001b[0K\u001b[1G101.4 MiB [] 89% 0.2s\u001b[0K\u001b[1G101.4 MiB [] 90% 0.1s\u001b[0K\u001b[1G101.4 MiB [] 92% 0.1s\u001b[0K\u001b[1G101.4 MiB [] 93% 0.1s\u001b[0K\u001b[1G101.4 MiB [] 95% 0.1s\u001b[0K\u001b[1G101.4 MiB [] 96% 0.0s\u001b[0K\u001b[1G101.4 MiB [] 98% 0.0s\u001b[0K\u001b[1G101.4 MiB [] 99% 0.0s\u001b[0K\u001b[1G101.4 MiB [] 100% 0.0s\u001b[0K\n",
            "Chromium Headless Shell 136.0.7103.25 (playwright build v1169) downloaded to /root/.cache/ms-playwright/chromium_headless_shell-1169\n",
            "Downloading Firefox 137.0 (playwright build v1482)\u001b[2m from https://cdn.playwright.dev/dbazure/download/playwright/builds/firefox/1482/firefox-ubuntu-22.04.zip\u001b[22m\n",
            "\u001b[1G91 MiB [] 0% 0.0s\u001b[0K\u001b[1G91 MiB [] 0% 26.2s\u001b[0K\u001b[1G91 MiB [] 0% 12.3s\u001b[0K\u001b[1G91 MiB [] 0% 7.5s\u001b[0K\u001b[1G91 MiB [] 1% 4.2s\u001b[0K\u001b[1G91 MiB [] 2% 2.7s\u001b[0K\u001b[1G91 MiB [] 3% 2.4s\u001b[0K\u001b[1G91 MiB [] 5% 1.9s\u001b[0K\u001b[1G91 MiB [] 7% 1.6s\u001b[0K\u001b[1G91 MiB [] 8% 1.5s\u001b[0K\u001b[1G91 MiB [] 9% 1.5s\u001b[0K\u001b[1G91 MiB [] 10% 1.6s\u001b[0K\u001b[1G91 MiB [] 12% 1.5s\u001b[0K\u001b[1G91 MiB [] 13% 1.4s\u001b[0K\u001b[1G91 MiB [] 15% 1.3s\u001b[0K\u001b[1G91 MiB [] 16% 1.3s\u001b[0K\u001b[1G91 MiB [] 17% 1.3s\u001b[0K\u001b[1G91 MiB [] 18% 1.3s\u001b[0K\u001b[1G91 MiB [] 20% 1.2s\u001b[0K\u001b[1G91 MiB [] 21% 1.2s\u001b[0K\u001b[1G91 MiB [] 22% 1.2s\u001b[0K\u001b[1G91 MiB [] 24% 1.1s\u001b[0K\u001b[1G91 MiB [] 24% 1.2s\u001b[0K\u001b[1G91 MiB [] 26% 1.1s\u001b[0K\u001b[1G91 MiB [] 27% 1.1s\u001b[0K\u001b[1G91 MiB [] 28% 1.1s\u001b[0K\u001b[1G91 MiB [] 30% 1.1s\u001b[0K\u001b[1G91 MiB [] 31% 1.0s\u001b[0K\u001b[1G91 MiB [] 32% 1.0s\u001b[0K\u001b[1G91 MiB [] 33% 1.0s\u001b[0K\u001b[1G91 MiB [] 35% 1.0s\u001b[0K\u001b[1G91 MiB [] 37% 0.9s\u001b[0K\u001b[1G91 MiB [] 38% 0.9s\u001b[0K\u001b[1G91 MiB [] 39% 0.9s\u001b[0K\u001b[1G91 MiB [] 40% 0.9s\u001b[0K\u001b[1G91 MiB [] 41% 0.9s\u001b[0K\u001b[1G91 MiB [] 42% 0.8s\u001b[0K\u001b[1G91 MiB [] 44% 0.8s\u001b[0K\u001b[1G91 MiB [] 46% 0.8s\u001b[0K\u001b[1G91 MiB [] 48% 0.7s\u001b[0K\u001b[1G91 MiB [] 49% 0.7s\u001b[0K\u001b[1G91 MiB [] 50% 0.7s\u001b[0K\u001b[1G91 MiB [] 51% 0.7s\u001b[0K\u001b[1G91 MiB [] 53% 0.7s\u001b[0K\u001b[1G91 MiB [] 54% 0.6s\u001b[0K\u001b[1G91 MiB [] 56% 0.6s\u001b[0K\u001b[1G91 MiB [] 58% 0.6s\u001b[0K\u001b[1G91 MiB [] 59% 0.5s\u001b[0K\u001b[1G91 MiB [] 61% 0.5s\u001b[0K\u001b[1G91 MiB [] 63% 0.5s\u001b[0K\u001b[1G91 MiB [] 65% 0.5s\u001b[0K\u001b[1G91 MiB [] 66% 0.4s\u001b[0K\u001b[1G91 MiB [] 68% 0.4s\u001b[0K\u001b[1G91 MiB [] 70% 0.4s\u001b[0K\u001b[1G91 MiB [] 71% 0.4s\u001b[0K\u001b[1G91 MiB [] 73% 0.3s\u001b[0K\u001b[1G91 MiB [] 75% 0.3s\u001b[0K\u001b[1G91 MiB [] 76% 0.3s\u001b[0K\u001b[1G91 MiB [] 78% 0.3s\u001b[0K\u001b[1G91 MiB [] 79% 0.3s\u001b[0K\u001b[1G91 MiB [] 81% 0.2s\u001b[0K\u001b[1G91 MiB [] 83% 0.2s\u001b[0K\u001b[1G91 MiB [] 85% 0.2s\u001b[0K\u001b[1G91 MiB [] 86% 0.2s\u001b[0K\u001b[1G91 MiB [] 88% 0.1s\u001b[0K\u001b[1G91 MiB [] 89% 0.1s\u001b[0K\u001b[1G91 MiB [] 90% 0.1s\u001b[0K\u001b[1G91 MiB [] 92% 0.1s\u001b[0K\u001b[1G91 MiB [] 94% 0.1s\u001b[0K\u001b[1G91 MiB [] 96% 0.0s\u001b[0K\u001b[1G91 MiB [] 98% 0.0s\u001b[0K\u001b[1G91 MiB [] 100% 0.0s\u001b[0K\n",
            "Firefox 137.0 (playwright build v1482) downloaded to /root/.cache/ms-playwright/firefox-1482\n",
            "Downloading Webkit 18.4 (playwright build v2158)\u001b[2m from https://cdn.playwright.dev/dbazure/download/playwright/builds/webkit/2158/webkit-ubuntu-22.04.zip\u001b[22m\n",
            "\u001b[1G93.8 MiB [] 0% 0.0s\u001b[0K\u001b[1G93.8 MiB [] 0% 28.5s\u001b[0K\u001b[1G93.8 MiB [] 0% 14.0s\u001b[0K\u001b[1G93.8 MiB [] 0% 8.0s\u001b[0K\u001b[1G93.8 MiB [] 1% 4.2s\u001b[0K\u001b[1G93.8 MiB [] 2% 3.4s\u001b[0K\u001b[1G93.8 MiB [] 3% 2.9s\u001b[0K\u001b[1G93.8 MiB [] 4% 2.6s\u001b[0K\u001b[1G93.8 MiB [] 5% 2.3s\u001b[0K\u001b[1G93.8 MiB [] 6% 2.0s\u001b[0K\u001b[1G93.8 MiB [] 7% 1.9s\u001b[0K\u001b[1G93.8 MiB [] 9% 1.8s\u001b[0K\u001b[1G93.8 MiB [] 10% 1.7s\u001b[0K\u001b[1G93.8 MiB [] 11% 1.9s\u001b[0K\u001b[1G93.8 MiB [] 11% 1.8s\u001b[0K\u001b[1G93.8 MiB [] 12% 1.9s\u001b[0K\u001b[1G93.8 MiB [] 13% 1.9s\u001b[0K\u001b[1G93.8 MiB [] 14% 1.7s\u001b[0K\u001b[1G93.8 MiB [] 16% 1.6s\u001b[0K\u001b[1G93.8 MiB [] 17% 1.6s\u001b[0K\u001b[1G93.8 MiB [] 17% 1.9s\u001b[0K\u001b[1G93.8 MiB [] 18% 1.8s\u001b[0K\u001b[1G93.8 MiB [] 19% 1.9s\u001b[0K\u001b[1G93.8 MiB [] 20% 1.8s\u001b[0K\u001b[1G93.8 MiB [] 22% 1.7s\u001b[0K\u001b[1G93.8 MiB [] 23% 1.6s\u001b[0K\u001b[1G93.8 MiB [] 24% 1.6s\u001b[0K\u001b[1G93.8 MiB [] 25% 1.6s\u001b[0K\u001b[1G93.8 MiB [] 26% 1.5s\u001b[0K\u001b[1G93.8 MiB [] 27% 1.5s\u001b[0K\u001b[1G93.8 MiB [] 28% 1.4s\u001b[0K\u001b[1G93.8 MiB [] 30% 1.4s\u001b[0K\u001b[1G93.8 MiB [] 31% 1.3s\u001b[0K\u001b[1G93.8 MiB [] 33% 1.2s\u001b[0K\u001b[1G93.8 MiB [] 35% 1.2s\u001b[0K\u001b[1G93.8 MiB [] 37% 1.1s\u001b[0K\u001b[1G93.8 MiB [] 38% 1.1s\u001b[0K\u001b[1G93.8 MiB [] 39% 1.1s\u001b[0K\u001b[1G93.8 MiB [] 41% 1.0s\u001b[0K\u001b[1G93.8 MiB [] 42% 1.0s\u001b[0K\u001b[1G93.8 MiB [] 43% 1.0s\u001b[0K\u001b[1G93.8 MiB [] 45% 0.9s\u001b[0K\u001b[1G93.8 MiB [] 47% 0.9s\u001b[0K\u001b[1G93.8 MiB [] 48% 0.8s\u001b[0K\u001b[1G93.8 MiB [] 48% 0.9s\u001b[0K\u001b[1G93.8 MiB [] 49% 0.9s\u001b[0K\u001b[1G93.8 MiB [] 50% 0.8s\u001b[0K\u001b[1G93.8 MiB [] 51% 0.8s\u001b[0K\u001b[1G93.8 MiB [] 52% 0.8s\u001b[0K\u001b[1G93.8 MiB [] 54% 0.8s\u001b[0K\u001b[1G93.8 MiB [] 56% 0.7s\u001b[0K\u001b[1G93.8 MiB [] 58% 0.7s\u001b[0K\u001b[1G93.8 MiB [] 60% 0.6s\u001b[0K\u001b[1G93.8 MiB [] 62% 0.6s\u001b[0K\u001b[1G93.8 MiB [] 63% 0.6s\u001b[0K\u001b[1G93.8 MiB [] 65% 0.5s\u001b[0K\u001b[1G93.8 MiB [] 67% 0.5s\u001b[0K\u001b[1G93.8 MiB [] 69% 0.4s\u001b[0K\u001b[1G93.8 MiB [] 71% 0.4s\u001b[0K\u001b[1G93.8 MiB [] 73% 0.4s\u001b[0K\u001b[1G93.8 MiB [] 74% 0.4s\u001b[0K\u001b[1G93.8 MiB [] 75% 0.3s\u001b[0K\u001b[1G93.8 MiB [] 77% 0.3s\u001b[0K\u001b[1G93.8 MiB [] 78% 0.3s\u001b[0K\u001b[1G93.8 MiB [] 80% 0.3s\u001b[0K\u001b[1G93.8 MiB [] 82% 0.3s\u001b[0K\u001b[1G93.8 MiB [] 83% 0.2s\u001b[0K\u001b[1G93.8 MiB [] 85% 0.2s\u001b[0K\u001b[1G93.8 MiB [] 86% 0.2s\u001b[0K\u001b[1G93.8 MiB [] 88% 0.2s\u001b[0K\u001b[1G93.8 MiB [] 90% 0.1s\u001b[0K\u001b[1G93.8 MiB [] 92% 0.1s\u001b[0K\u001b[1G93.8 MiB [] 93% 0.1s\u001b[0K\u001b[1G93.8 MiB [] 94% 0.1s\u001b[0K\u001b[1G93.8 MiB [] 96% 0.0s\u001b[0K\u001b[1G93.8 MiB [] 98% 0.0s\u001b[0K\u001b[1G93.8 MiB [] 100% 0.0s\u001b[0K\n",
            "Webkit 18.4 (playwright build v2158) downloaded to /root/.cache/ms-playwright/webkit-2158\n",
            "Downloading FFMPEG playwright build v1011\u001b[2m from https://cdn.playwright.dev/dbazure/download/playwright/builds/ffmpeg/1011/ffmpeg-linux.zip\u001b[22m\n",
            "\u001b[1G2.3 MiB [] 0% 0.0s\u001b[0K\u001b[1G2.3 MiB [] 2% 0.6s\u001b[0K\u001b[1G2.3 MiB [] 10% 0.3s\u001b[0K\u001b[1G2.3 MiB [] 24% 0.2s\u001b[0K\u001b[1G2.3 MiB [] 64% 0.0s\u001b[0K\u001b[1G2.3 MiB [] 100% 0.0s\u001b[0K\n",
            "FFMPEG playwright build v1011 downloaded to /root/.cache/ms-playwright/ffmpeg-1011\n",
            "Playwright Host validation warning: \n",
            "╔══════════════════════════════════════════════════════╗\n",
            "║ Host system is missing dependencies to run browsers. ║\n",
            "║ Missing libraries:                                   ║\n",
            "║     libwoff2dec.so.1.0.2                             ║\n",
            "║     libgstgl-1.0.so.0                                ║\n",
            "║     libgstcodecparsers-1.0.so.0                      ║\n",
            "║     libavif.so.13                                    ║\n",
            "║     libharfbuzz-icu.so.0                             ║\n",
            "║     libenchant-2.so.2                                ║\n",
            "║     libsecret-1.so.0                                 ║\n",
            "║     libhyphen.so.0                                   ║\n",
            "║     libmanette-0.2.so.0                              ║\n",
            "╚══════════════════════════════════════════════════════╝\n",
            "    at validateDependenciesLinux (/usr/local/lib/python3.11/dist-packages/playwright/driver/package/lib/server/registry/dependencies.js:269:9)\n",
            "\u001b[90m    at process.processTicksAndRejections (node:internal/process/task_queues:105:5)\u001b[39m\n",
            "    at async Registry._validateHostRequirements (/usr/local/lib/python3.11/dist-packages/playwright/driver/package/lib/server/registry/index.js:927:14)\n",
            "    at async Registry._validateHostRequirementsForExecutableIfNeeded (/usr/local/lib/python3.11/dist-packages/playwright/driver/package/lib/server/registry/index.js:1047:7)\n",
            "    at async Registry.validateHostRequirementsForExecutablesIfNeeded (/usr/local/lib/python3.11/dist-packages/playwright/driver/package/lib/server/registry/index.js:1036:7)\n",
            "    at async t.<anonymous> (/usr/local/lib/python3.11/dist-packages/playwright/driver/package/lib/cli/program.js:160:7)\n"
          ]
        }
      ]
    },
    {
      "cell_type": "code",
      "source": [
        "import asyncio\n",
        "from playwright.async_api import async_playwright\n",
        "import os\n",
        "\n",
        "async def capture_webpage_screenshot_async(url, output_path=\"webpage_screenshot.png\"):\n",
        "    \"\"\"\n",
        "    Captures a full-page screenshot of a given URL using Playwright's Async API.\n",
        "    \"\"\"\n",
        "    try:\n",
        "        async with async_playwright() as p:\n",
        "            browser = await p.chromium.launch(headless=True)\n",
        "            page = await browser.new_page()\n",
        "\n",
        "            print(f\"Navigating to {url}...\")\n",
        "            await page.goto(url)\n",
        "\n",
        "            # Wait for dynamic content to load (adjust as needed)\n",
        "            await page.wait_for_timeout(3000) # Wait for 3 seconds\n",
        "\n",
        "            print(f\"Taking full-page screenshot and saving to {output_path}...\")\n",
        "            await page.screenshot(path=output_path, full_page=True)\n",
        "\n",
        "            print(f\"Screenshot saved successfully at: {os.path.abspath(output_path)}\")\n",
        "\n",
        "            await browser.close()\n",
        "\n",
        "    except Exception as e:\n",
        "        print(f\"An error occurred: {e}\")\n",
        "\n",
        "# --- IMPORTANT CHANGE FOR JUPYTER/IPYTHON ---\n",
        "# Remove the if __name__ == \"__main__\": block\n",
        "# And simply await the function call directly in a cell\n",
        "\n",
        "webpage_url = \"https://www.bowtie.com.hk/zh/insurance/vhis?referer=blog&defaultCoupon=BLOGLEARNING\"\n",
        "screenshot_file = \"bowtie_vhis_screenshot.png\"\n",
        "\n",
        "# Run this line directly in your Jupyter cell:\n",
        "await capture_webpage_screenshot_async(webpage_url, screenshot_file)"
      ],
      "metadata": {
        "colab": {
          "base_uri": "https://localhost:8080/"
        },
        "id": "xenHTgCWdG6p",
        "outputId": "47c6ac43-a255-4d18-eeb5-7ab6c353f740"
      },
      "execution_count": 7,
      "outputs": [
        {
          "output_type": "stream",
          "name": "stdout",
          "text": [
            "Navigating to https://www.bowtie.com.hk/zh/insurance/vhis?referer=blog&defaultCoupon=BLOGLEARNING...\n",
            "Taking full-page screenshot and saving to bowtie_vhis_screenshot.png...\n",
            "Screenshot saved successfully at: /content/bowtie_vhis_screenshot.png\n"
          ]
        }
      ]
    }
  ]
}